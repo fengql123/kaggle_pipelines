{
 "cells": [
  {
   "cell_type": "markdown",
   "id": "797a3a21",
   "metadata": {},
   "source": [
    "### Imports"
   ]
  },
  {
   "cell_type": "code",
   "execution_count": null,
   "id": "552b9346",
   "metadata": {},
   "outputs": [],
   "source": [
    "# !pip install transformers datasets sentencepiece optuna ray opendatasets\n",
    "# !nvidia-smi"
   ]
  },
  {
   "cell_type": "code",
   "execution_count": null,
   "id": "b21f13e1",
   "metadata": {},
   "outputs": [],
   "source": [
    "import os\n",
    "import gc\n",
    "import re\n",
    "import ast\n",
    "import sys\n",
    "import copy\n",
    "import json\n",
    "import time\n",
    "import math\n",
    "import string\n",
    "import pickle\n",
    "import random\n",
    "import joblib\n",
    "import itertools\n",
    "\n",
    "import scipy as sp\n",
    "import numpy as np\n",
    "import pandas as pd\n",
    "from tqdm.auto import tqdm\n",
    "from sklearn.metrics import mean_squared_error\n",
    "from sklearn.model_selection import StratifiedKFold, GroupKFold, KFold\n",
    "from iterstrat.ml_stratifiers import MultilabelStratifiedKFold\n",
    "import torch\n",
    "import torch.nn as nn\n",
    "from torch.nn import Parameter\n",
    "import torch.nn.functional as F\n",
    "from torch.optim import Adam, SGD, AdamW\n",
    "from torch.utils.data import DataLoader, Dataset\n",
    "import tokenizers\n",
    "import transformers\n",
    "from transformers import AutoTokenizer, AutoModel, AutoConfig\n",
    "from transformers import get_linear_schedule_with_warmup, get_cosine_schedule_with_warmup\n",
    "import warnings\n",
    "warnings.filterwarnings(\"ignore\")\n",
    "\n",
    "device = torch.device('cuda' if torch.cuda.is_available() else 'cpu')"
   ]
  },
  {
   "cell_type": "markdown",
   "id": "b94b3624",
   "metadata": {},
   "source": [
    "### CFG"
   ]
  },
  {
   "cell_type": "code",
   "execution_count": null,
   "id": "7a9380e9",
   "metadata": {},
   "outputs": [],
   "source": [
    "class CFG:\n",
    "    wandb=False\n",
    "    competition=''\n",
    "    _wandb_kernel=''\n",
    "    debug=False\n",
    "    apex=True\n",
    "    model=\"microsoft/deberta-v3-base\"\n",
    "    gradient_checkpointing=True\n",
    "    scheduler='cosine' # ['linear', 'cosine']\n",
    "    batch_scheduler=True\n",
    "    num_cycles=0.5\n",
    "    num_warmup_steps=0\n",
    "    epochs=8\n",
    "    encoder_lr=5e-6\n",
    "    decoder_lr=5e-6\n",
    "    min_lr=1e-6\n",
    "    eps=1e-6\n",
    "    betas=(0.9, 0.999)\n",
    "    batch_size=8\n",
    "    max_len=512\n",
    "    weight_decay=0.01\n",
    "    gradient_accumulation_steps=1\n",
    "    max_grad_norm=1000\n",
    "    target_cols=[]\n",
    "    seed=42\n",
    "    n_fold=5\n",
    "    trn_fold=[0, 1, 2, 3, 4]\n",
    "    train=True\n",
    "    \n",
    "if CFG.debug:\n",
    "    CFG.epochs = 2\n",
    "    CFG.trn_fold = [0]\n",
    "\n",
    "DATA_DIR = \"\"\n",
    "OUTPUT_DIR = \"\""
   ]
  },
  {
   "cell_type": "markdown",
   "id": "91bbaa3a",
   "metadata": {},
   "source": [
    "### Helper Functions"
   ]
  },
  {
   "cell_type": "code",
   "execution_count": null,
   "id": "8833afe2",
   "metadata": {},
   "outputs": [],
   "source": [
    "def get_score(y_hat, y):\n",
    "    pass\n",
    "\n",
    "def cv_split(func):\n",
    "    fold = func(n_splits=CFG.n_fold, shuffle=True, random_state=CFG.seed)\n",
    "    return fold\n",
    "\n",
    "def seed_everything(seed):\n",
    "    random.seed(seed)\n",
    "    os.environ['PYTHONHASHSEED'] = str(seed)\n",
    "    np.random.seed(seed)\n",
    "    torch.manual_seed(seed)\n",
    "    torch.cuda.manual_seed(seed)\n",
    "    torch.backends.cudnn.deterministic = True\n",
    "    \n",
    "seed_everything(seed=CFG.seed)"
   ]
  },
  {
   "cell_type": "markdown",
   "id": "e6476f67",
   "metadata": {},
   "source": [
    "### Load Data"
   ]
  },
  {
   "cell_type": "code",
   "execution_count": null,
   "id": "347afe88",
   "metadata": {},
   "outputs": [],
   "source": [
    "train = pd.read_csv(DATA_DIR + \"train.csv\")\n",
    "test = pd.read_csv(DATA_DIR + \"test.csv\")\n",
    "submission = pd.read_csv(DATA_DIR + \"sample_submission.csv\")\n",
    "\n",
    "print(f\"train.shape: {train.shape}\")\n",
    "display(train.head())\n",
    "print(f\"test.shape: {test.shape}\")\n",
    "display(test.head())\n",
    "print(f\"submission.shape: {submission.shape}\")\n",
    "display(submission.head())"
   ]
  },
  {
   "cell_type": "markdown",
   "id": "a85cc12b",
   "metadata": {},
   "source": [
    "### CV Split"
   ]
  },
  {
   "cell_type": "code",
   "execution_count": null,
   "id": "e0ec946c",
   "metadata": {},
   "outputs": [],
   "source": [
    "splitter = cv_split(None)\n",
    "for n, (train_index, val_index) in enumerate(Fold.split(train, train[CFG.target_cols])):\n",
    "    train.loc[val_index, 'fold'] = int(n)\n",
    "train['fold'] = train['fold'].astype(int)\n",
    "display(train.groupby('fold').size())"
   ]
  },
  {
   "cell_type": "markdown",
   "id": "62ec2cfa",
   "metadata": {},
   "source": [
    "### Tokenizer"
   ]
  },
  {
   "cell_type": "code",
   "execution_count": null,
   "id": "6158877c",
   "metadata": {},
   "outputs": [],
   "source": [
    "tokenizer = AutoTokenizer.from_pretrained(CFG.model)\n",
    "CFG.tokenizer = tokenizer\n",
    "tokenizer.save_pretrained(OUTPUT_DIR+'tokenizer/')"
   ]
  },
  {
   "cell_type": "markdown",
   "id": "4a95dc6e",
   "metadata": {},
   "source": [
    "### Dataset"
   ]
  },
  {
   "cell_type": "code",
   "execution_count": null,
   "id": "84730dd0",
   "metadata": {},
   "outputs": [],
   "source": [
    "lengths = []\n",
    "tk0 = tqdm(train['full_text'].fillna(\"\").values, total=len(train))\n",
    "for text in tk0:\n",
    "    length = len(tokenizer(text, add_special_tokens=False)['input_ids'])\n",
    "    lengths.append(length)\n",
    "CFG.max_len = max(lengths) + 2 # cls & sep\n",
    "print(f\"max_len: {CFG.max_len}\")"
   ]
  },
  {
   "cell_type": "code",
   "execution_count": null,
   "id": "a71cd899",
   "metadata": {},
   "outputs": [],
   "source": [
    "def prepare_input(cfg, text):\n",
    "    inputs = cfg.tokenizer.encode_plus(\n",
    "        text, \n",
    "        return_tensors=None, \n",
    "        add_special_tokens=True, \n",
    "        max_length=CFG.max_len,\n",
    "        pad_to_max_length=True,\n",
    "        truncation=True\n",
    "    )\n",
    "    for k, v in inputs.items():\n",
    "        inputs[k] = torch.tensor(v, dtype=torch.long)\n",
    "    return inputs\n",
    "\n",
    "\n",
    "class Dataset(Dataset):\n",
    "    def __init__(self, cfg, df):\n",
    "        self.cfg = cfg\n",
    "        self.texts = df['full_text'].values\n",
    "        self.labels = df[cfg.target_cols].values\n",
    "\n",
    "    def __len__(self):\n",
    "        return len(self.texts)\n",
    "\n",
    "    def __getitem__(self, item):\n",
    "        inputs = prepare_input(self.cfg, self.texts[item])\n",
    "        label = torch.tensor(self.labels[item], dtype=torch.float)\n",
    "        return inputs, label\n",
    "    \n",
    "\n",
    "def collate(inputs):\n",
    "    mask_len = int(inputs[\"attention_mask\"].sum(axis=1).max())\n",
    "    for k, v in inputs.items():\n",
    "        inputs[k] = inputs[k][:,:mask_len]\n",
    "    return inputs"
   ]
  },
  {
   "cell_type": "markdown",
   "id": "3de52d90",
   "metadata": {},
   "source": [
    "### Model"
   ]
  },
  {
   "cell_type": "code",
   "execution_count": null,
   "id": "8909a62e",
   "metadata": {},
   "outputs": [],
   "source": [
    "backbone = AutoModel.from_pretrained(CFG.model)"
   ]
  },
  {
   "cell_type": "code",
   "execution_count": null,
   "id": "f5d13dc9",
   "metadata": {},
   "outputs": [],
   "source": [
    "class Pooling(nn.Module):\n",
    "    def __init__(self):\n",
    "        super().__init__()\n",
    "        pass\n",
    "    def forward():\n",
    "        pass"
   ]
  },
  {
   "cell_type": "code",
   "execution_count": null,
   "id": "c076ed23",
   "metadata": {},
   "outputs": [],
   "source": [
    "class Model(nn.Module):\n",
    "    def __init__(self):\n",
    "        super().__init__()\n",
    "        self.backbone = backbone\n",
    "        pass\n",
    "    def forward():\n",
    "        pass"
   ]
  },
  {
   "cell_type": "markdown",
   "id": "1d01359f",
   "metadata": {},
   "source": [
    "### Training"
   ]
  },
  {
   "cell_type": "code",
   "execution_count": null,
   "id": "cce0f4ab",
   "metadata": {},
   "outputs": [],
   "source": [
    "def train(train_loader, model, criterion, optimizer, epoch, scheduler, progress_bar, device):\n",
    "    count = 0\n",
    "    mean_loss = 0\n",
    "    mean_score = 0\n",
    "    \n",
    "    model.train()\n",
    "    scaler = torch.cuda.amp.GradScaler(enabled=CFG.apex)\n",
    "    for batch in train_dataloader:\n",
    "        count += 1\n",
    "        x, y = batch\n",
    "        with torch.cuda.amp.autocast(enabled=CFG.apex):\n",
    "            yhat = model(x)\n",
    "            loss = criterion(yhat, y)\n",
    "        score = get_score(yhat, y)\n",
    "        mean_loss += loss\n",
    "        mean_score += score\n",
    "        scaler.scale(loss).backward()\n",
    "        scaler.step(optimizer)\n",
    "        scaler.update()\n",
    "        optimizer.zero_grad()\n",
    "        scheduler.step()\n",
    "        progress_bar.update(1)\n",
    "    \n",
    "    mean_loss = mean_loss/count\n",
    "    mean_score = mean_score/count\n",
    "    return mean_loss, mean_score\n",
    "\n",
    "def val(val_loader, model, criterion, epoch, progress_bar, device):\n",
    "    count = 0\n",
    "    mean_loss = 0\n",
    "    mean_score = 0\n",
    "    \n",
    "    model.eval()\n",
    "    for batch in val_loader:\n",
    "        with torch.inference_mode():\n",
    "            count += 1\n",
    "            x, y = batch\n",
    "            yhat = model(x)\n",
    "            loss = criterion(yhat, y)\n",
    "            score = get_score(yhat, y)\n",
    "            mean_loss += loss\n",
    "            mean_score += score\n",
    "            progress_bar.update(1)\n",
    "    mean_loss = mean_loss/count\n",
    "    mean_score = mean_score/count\n",
    "    return mean_loss, mean_score\n",
    "\n",
    "def train_loop(train, fold):\n",
    "    print(f\"============== fold: {fold + 1} training ==============\")\n",
    "    \n",
    "    train_folds = train[train['fold'] != fold].reset_index(drop=True)\n",
    "    val_folds = train[train['fold'] == fold].reset_index(drop=True)\n",
    "    val_labels = val_folds[CFG.target_cols].values\n",
    "    \n",
    "    train_dataset = TrainDataset(CFG, train_folds)\n",
    "    val_dataset = TrainDataset(CFG, val_folds)\n",
    "    \n",
    "    train_loader = DataLoader(\n",
    "        train_dataset,\n",
    "        batch_size=CFG.batch_size,\n",
    "        shuffle=True,\n",
    "        num_workers=CFG.num_workers,\n",
    "        pin_memory=True,\n",
    "        drop_last=True\n",
    "        )\n",
    "    val_loader = DataLoader(\n",
    "        val_dataset,\n",
    "        batch_size=CFG.batch_size * 2,\n",
    "        shuffle=False,\n",
    "        num_workers=CFG.num_workers,\n",
    "        pin_memory=True,\n",
    "        drop_last=False\n",
    "        )\n",
    "    \n",
    "    model = Model(CFG, pretrained=True)\n",
    "    torch.save(model.config, OUTPUT_DIR+\"config.pth\")\n",
    "    model.to(device)\n",
    "    \n",
    "    def get_optimizer_params(model, encoder_lr, decoder_lr, weight_decay=0.0):\n",
    "        param_optimizer = list(model.named_parameters())\n",
    "        no_decay = [\"bias\", \"LayerNorm.bias\", \"LayerNorm.weight\"]\n",
    "        optimizer_parameters = [\n",
    "            {'params': [p for n, p in model.model.named_parameters() if not any(nd in n for nd in no_decay)],\n",
    "             'lr': encoder_lr, 'weight_decay': weight_decay},\n",
    "            {'params': [p for n, p in model.model.named_parameters() if any(nd in n for nd in no_decay)],\n",
    "             'lr': encoder_lr, 'weight_decay': 0.0},\n",
    "            {'params': [p for n, p in model.named_parameters() if \"model\" not in n],\n",
    "             'lr': decoder_lr, 'weight_decay': 0.0}\n",
    "        ]\n",
    "        return optimizer_parameters\n",
    "\n",
    "    optimizer_parameters = get_optimizer_params(model,\n",
    "                                                encoder_lr=CFG.encoder_lr, \n",
    "                                                decoder_lr=CFG.decoder_lr,\n",
    "                                                weight_decay=CFG.weight_decay)\n",
    "    optimizer = AdamW(optimizer_parameters, lr=CFG.encoder_lr, eps=CFG.eps, betas=CFG.betas)\n",
    "    \n",
    "    def get_scheduler(cfg, optimizer, num_train_steps):\n",
    "        if cfg.scheduler == 'linear':\n",
    "            scheduler = get_linear_schedule_with_warmup(\n",
    "                optimizer, num_warmup_steps=cfg.num_warmup_steps, num_training_steps=num_train_steps\n",
    "            )\n",
    "        elif cfg.scheduler == 'cosine':\n",
    "            scheduler = get_cosine_schedule_with_warmup(\n",
    "                optimizer, num_warmup_steps=cfg.num_warmup_steps, num_training_steps=num_train_steps, num_cycles=cfg.num_cycles\n",
    "            )\n",
    "        return scheduler\n",
    "    \n",
    "    num_steps_total = CFG.epochs * len(train_loader)\n",
    "    num_steps_val = len(val_loader)\n",
    "    \n",
    "    scheduler = get_scheduler(CFG, optimizer, num_steps_total)\n",
    "    criterion = nn.SmoothL1Loss(reduction='mean')\n",
    "    \n",
    "    progress_bar_train = tqdm(range(num_steps_total))\n",
    "    \n",
    "    best_score = np.inf\n",
    "    \n",
    "    for epoch in range(CFG.epochs):\n",
    "        mean_loss_train, mean_score_train = train_epoch(train_loader, model, criterion, optimizer, epoch, scheduler, progress_bar_train, device)\n",
    "        print(\"================================================================\")\n",
    "        print(f\"mean training loss at epoch {epoch + 1}: {mean_loss_train}\")\n",
    "        print(f\"mean training score at epoch {epoch}: {mean_score_train}\")\n",
    "        \n",
    "        print(f\"============== epoch: {epoch + 1} evaluating ==============\")\n",
    "        progress_bar_val = tqdm(range(num_steps_val))\n",
    "        mean_loss_val, mean_score_val = val_epoch(val_loader, model, criterion, epoch, progress_bar_val, device)\n",
    "        print(f\"mean validation loss at epoch {epoch + 1}: {mean_loss_val}\")\n",
    "        print(f\"mean valiation score at epoch {epoch + 1}: {mean_score_val}\")\n",
    "        \n",
    "        if mean_score_val < best_score:\n",
    "            best_score = mean_score_val\n",
    "            print(f\"saving best model with score: {best_score}\")\n",
    "            torch.save(model, OUTPUT_DIR + f\"modelfold{fold + 1}.pth\")\n",
    "        print(\"================================================================\")\n",
    "        print(\" \")\n",
    "    torch.cuda.empty_cache()\n",
    "    gc.collect()"
   ]
  },
  {
   "cell_type": "code",
   "execution_count": null,
   "id": "329da307",
   "metadata": {},
   "outputs": [],
   "source": [
    "train_loop(train, fold)"
   ]
  }
 ],
 "metadata": {
  "kernelspec": {
   "display_name": "torch",
   "language": "python",
   "name": "torch"
  },
  "language_info": {
   "codemirror_mode": {
    "name": "ipython",
    "version": 3
   },
   "file_extension": ".py",
   "mimetype": "text/x-python",
   "name": "python",
   "nbconvert_exporter": "python",
   "pygments_lexer": "ipython3",
   "version": "3.10.4"
  }
 },
 "nbformat": 4,
 "nbformat_minor": 5
}
